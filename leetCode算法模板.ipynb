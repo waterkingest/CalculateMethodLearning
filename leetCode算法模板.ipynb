{
 "cells": [
  {
   "cell_type": "markdown",
   "metadata": {},
   "source": [
    "## 二分查找"
   ]
  },
  {
   "cell_type": "markdown",
   "metadata": {},
   "source": [
    "### 1. 在排序数组中查找元素的第一个和最后一个位置"
   ]
  },
  {
   "cell_type": "markdown",
   "metadata": {},
   "source": [
    "    输入：nums = [5,7,7,8,8,10], target = 8\n",
    "    输出：[3,4]"
   ]
  },
  {
   "cell_type": "markdown",
   "metadata": {},
   "source": [
    "    输入：nums = [5,7,7,8,8,10], target = 6\n",
    "    输出：[-1,-1]"
   ]
  },
  {
   "cell_type": "code",
   "execution_count": 44,
   "metadata": {},
   "outputs": [
    {
     "name": "stdout",
     "output_type": "stream",
     "text": [
      "[0, 1]\n"
     ]
    }
   ],
   "source": [
    "class solution:\n",
    "    def __init__ (self,nums,target):\n",
    "        self.nums=nums\n",
    "        self.target=target\n",
    "    def findtarget(self):\n",
    "        l,r=0,len(self.nums)-1  \n",
    "        a=self.locafirst(l,r)\n",
    "        b=self.localast(l,r)\n",
    "        if self.target not in nums:\n",
    "            return[-1,-1]\n",
    "        return [a,b]\n",
    "    def locafirst(self,l,r):\n",
    "        while l < r:\n",
    "            m = l + (r - l) // 2\n",
    "            if self.nums[m]<self.target:    \n",
    "                l=m+1\n",
    "            if self.nums[m]==self.target:\n",
    "                r=m\n",
    "            else:\n",
    "                r =m-1\n",
    "        if self.nums[l]==target:\n",
    "            \n",
    "            return l \n",
    "        else:\n",
    "            return -1\n",
    "    def localast(self,l,r):\n",
    "        while l < r:\n",
    "            m = l + (r - l) // 2\n",
    "            if self.nums[m]==self.target:\n",
    "                l=m+1\n",
    "            elif self.nums[m]>target:\n",
    "                r=m-1\n",
    "        return l  \n",
    "nums=[7,7]\n",
    "target = 7\n",
    "result=solution(nums,target)\n",
    "a=result.findtarget()\n",
    "print (a)"
   ]
  },
  {
   "cell_type": "markdown",
   "metadata": {},
   "source": [
    "### 2. 实现 int sqrt(int x) 函数.计算并返回 x 的平方根，其中 x 是非负整数。由于返回类型是整数，结果只保留整数的部分，小数部分将被舍去。\n",
    "\n"
   ]
  },
  {
   "cell_type": "markdown",
   "metadata": {},
   "source": [
    "    输入: 4\n",
    "    输出: 2"
   ]
  },
  {
   "cell_type": "markdown",
   "metadata": {},
   "source": [
    "    输入: 8\n",
    "    输出: 2\n",
    "    说明: 8 的平方根是 2.82842..., \n",
    "         由于返回类型是整数，小数部分将被舍去。"
   ]
  },
  {
   "cell_type": "code",
   "execution_count": 46,
   "metadata": {},
   "outputs": [
    {
     "name": "stdout",
     "output_type": "stream",
     "text": [
      "2\n"
     ]
    }
   ],
   "source": [
    "class Solution(object):\n",
    "    def mySqrt(self, x):\n",
    "        \"\"\"\n",
    "        :type x: int\n",
    "        :rtype: int\n",
    "        \"\"\"\n",
    "        left, right = 0, x + 1\n",
    "        while left < right:\n",
    "            mid = left + (right - left) // 2\n",
    "            if mid ** 2 == x:\n",
    "                return mid\n",
    "            if mid ** 2 < x:\n",
    "                left = mid + 1\n",
    "            else:\n",
    "                right = mid\n",
    "        return left - 1\n",
    "x=8\n",
    "print(Solution().mySqrt(x))"
   ]
  },
  {
   "cell_type": "markdown",
   "metadata": {},
   "source": [
    "-----------"
   ]
  },
  {
   "cell_type": "markdown",
   "metadata": {},
   "source": [
    "## 排序"
   ]
  },
  {
   "cell_type": "markdown",
   "metadata": {},
   "source": [
    "### 1.给定一个字符串，请将字符串里的字符按照出现的频率降序排列。\n",
    "\n"
   ]
  },
  {
   "cell_type": "code",
   "execution_count": 48,
   "metadata": {},
   "outputs": [
    {
     "name": "stdout",
     "output_type": "stream",
     "text": [
      "ffffjjjpppeiow\n"
     ]
    }
   ],
   "source": [
    "class Solution:\n",
    "    def frequencySort(self, s: str) -> str:\n",
    "        a={}\n",
    "        res=''\n",
    "        for i in s:\n",
    "            a[i]=a.get(i,0)+1\n",
    "        a=sorted(a.items(),key=lambda k:-k[1])\n",
    "        for i in a:\n",
    "            for j in range(i[1]):\n",
    "                res+=i[0]\n",
    "        return res\n",
    "print(Solution().frequencySort('jjjeiowpppffff'))"
   ]
  },
  {
   "cell_type": "markdown",
   "metadata": {},
   "source": [
    "---------"
   ]
  },
  {
   "cell_type": "markdown",
   "metadata": {},
   "source": [
    "## 广度优先算法（Breadth-First-Search）\n",
    "    简称BFS，是一种图形搜索演算法。简单的说，BFS是从根节点开始，沿着树的宽度遍历树的节点，如果发现目标，则演算终止。"
   ]
  },
  {
   "cell_type": "code",
   "execution_count": null,
   "metadata": {},
   "outputs": [],
   "source": []
  }
 ],
 "metadata": {
  "kernelspec": {
   "display_name": "Python 3",
   "language": "python",
   "name": "python3"
  },
  "language_info": {
   "codemirror_mode": {
    "name": "ipython",
    "version": 3
   },
   "file_extension": ".py",
   "mimetype": "text/x-python",
   "name": "python",
   "nbconvert_exporter": "python",
   "pygments_lexer": "ipython3",
   "version": "3.8.5"
  }
 },
 "nbformat": 4,
 "nbformat_minor": 4
}
