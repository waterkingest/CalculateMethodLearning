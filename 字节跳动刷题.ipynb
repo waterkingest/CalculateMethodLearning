{
 "cells": [
  {
   "cell_type": "markdown",
   "metadata": {},
   "source": [
    "# 为了不断优化推荐效果，今日头条每天要存储和处理海量数据。假设有这样一种场景：我们对用户按照它们的注册时间先后来标号，对于一类文章，每个用户都有不同的喜好值，我们会想知道某一段时间内注册的用户（标号相连的一批用户）中，有多少用户对这类文章喜好值为k。因为一些特殊的原因，不会出现一个查询的用户区间完全覆盖另一个查询的用户区间(不存在L1<=L2<=R2<=R1)。"
   ]
  },
  {
   "cell_type": "markdown",
   "metadata": {},
   "source": [
    "#### 输入： 第1行为n代表用户的个数 第2行为n个整数，第i个代表用户标号为i的用户对某类文章的喜好度 第3行为一个正整数q代表查询的组数  第4行到第（3+q）行，每行包含3个整数l,r,k代表一组查询，即标号为l<=i<=r的用户中对这类文章喜好值为k的用户的个数。 数据范围n <= 300000,q<=300000 k是整型\n",
    "#### 输出：\n",
    "> 输出：一共q行，每行一个整数代表喜好值为k的用户的个数\n",
    "#### 输入例子1:\n",
    "    5\n",
    "    1 2 3 3 5\n",
    "    3\n",
    "    1 2 1\n",
    "    2 4 5\n",
    "    3 5 3\n",
    "#### 输出:\n",
    "    1\n",
    "    0\n",
    "    2\n",
    "#### 解释\n",
    "    样例解释:\n",
    "    有5个用户，喜好值为分别为1、2、3、3、5，\n",
    "    第一组询问对于标号[1,2]的用户喜好值为1的用户的个数是1\n",
    "    第二组询问对于标号[2,4]的用户喜好值为5的用户的个数是0\n",
    "    第三组询问对于标号[3,5]的用户喜好值为3的用户的个数是2"
   ]
  },
  {
   "cell_type": "code",
   "execution_count": 8,
   "metadata": {},
   "outputs": [
    {
     "name": "stdout",
     "output_type": "stream",
     "text": [
      "5\n",
      "1 2 2 3 5\n",
      "3\n",
      "1 2 1\n",
      "2 4 5\n",
      "3 5 3\n",
      "['1', '2']\n",
      "1\n",
      "['2', '2', '3']\n",
      "0\n",
      "['2', '3', '5']\n",
      "1\n"
     ]
    }
   ],
   "source": [
    "n=int(input())\n",
    "likelist=input().split(' ')\n",
    "q=int(input())\n",
    "asklist=[]\n",
    "for i in range(q):\n",
    "    asklist.append(input().split(' '))\n",
    "for j in asklist:\n",
    "    l=j[0]\n",
    "    r=j[1]\n",
    "    score=(j[2])\n",
    "    result=0\n",
    "    print(likelist[int(l)-1:int(r)])\n",
    "    result=likelist[int(l)-1:int(r)].count(score)\n",
    "#     for i in range(int(l)-1,int(r)):\n",
    "#         if likelist[i]==score:\n",
    "#             result+=1\n",
    "    print(result)"
   ]
  },
  {
   "cell_type": "markdown",
   "metadata": {},
   "source": [
    "解析(https://blog.csdn.net/flushhip/article/details/79562199)"
   ]
  },
  {
   "cell_type": "code",
   "execution_count": null,
   "metadata": {},
   "outputs": [],
   "source": []
  }
 ],
 "metadata": {
  "kernelspec": {
   "display_name": "Python 3",
   "language": "python",
   "name": "python3"
  },
  "language_info": {
   "codemirror_mode": {
    "name": "ipython",
    "version": 3
   },
   "file_extension": ".py",
   "mimetype": "text/x-python",
   "name": "python",
   "nbconvert_exporter": "python",
   "pygments_lexer": "ipython3",
   "version": "3.8.5"
  }
 },
 "nbformat": 4,
 "nbformat_minor": 4
}
